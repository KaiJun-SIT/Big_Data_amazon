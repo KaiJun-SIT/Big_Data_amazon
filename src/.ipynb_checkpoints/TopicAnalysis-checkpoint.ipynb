{
 "cells": [
  {
   "cell_type": "code",
   "execution_count": null,
   "id": "e2f6e521-a5d3-4ef0-842d-c9957e461b0f",
   "metadata": {},
   "outputs": [],
   "source": [
    "from pyspark.sql import SparkSession\n",
    "import pyspark.sql.functions as F\n",
    "from pyspark.sql.types import *\n",
    "\n",
    "# Initialize Spark with connection to your cluster and HDFS\n",
    "spark = SparkSession.builder \\\n",
    "    .appName(\"Amazon Reviews Topic Modeling\") \\\n",
    "    .master(\"spark://sparkmaster:8080\") \\\n",
    "    .config(\"spark.hadoop.fs.defaultFS\", \"hdfs://namenode:9000\") \\\n",
    "    .getOrCreate()\n",
    "\n",
    "print(\"Connected to Spark!\")"
   ]
  },
  {
   "cell_type": "code",
   "execution_count": null,
   "id": "73de9281-3e71-403e-844c-2cbf6dc38ab1",
   "metadata": {},
   "outputs": [],
   "source": [
    "from pyspark.ml.clustering import LDAModel\n",
    "from pyspark.ml.feature import CountVectorizerModel\n",
    "from pyspark.sql.types import ArrayType, StringType, FloatType\n",
    "\n",
    "# Choose a category to analyze\n",
    "category = \"Electronics\"\n",
    "\n",
    "# Load the saved models\n",
    "lda_model = LDAModel.load(f\"hdfs://namenode:9000/user/jovyan/amazon_reviews/models/lda_model_{category}\")\n",
    "vectorizer_model = CountVectorizerModel.load(f\"hdfs://namenode:9000/user/jovyan/amazon_reviews/models/vectorizer_{category}\")\n",
    "\n",
    "# Load topic terms\n",
    "topic_terms = spark.read.parquet(f\"hdfs://namenode:9000/user/jovyan/amazon_reviews/results/topics_{category}\")\n",
    "\n",
    "# Display topic terms to understand what each topic represents\n",
    "topic_terms.select(\"topic\", \"terms\").show(truncate=False)\n",
    "\n",
    "# Load original reviews\n",
    "reviews = spark.read.json(f\"hdfs://namenode:9000/user/hadoop/amazon_reviews/data/{category}.filtered.json\")\n",
    "\n",
    "print(f\"Loaded {reviews.count()} reviews for {category}\")"
   ]
  },
  {
   "cell_type": "code",
   "execution_count": null,
   "id": "f7c5547d-512e-4d0d-8280-5b222a9ab121",
   "metadata": {},
   "outputs": [],
   "source": [
    "from pyspark.ml.clustering import LDAModel\n",
    "from pyspark.ml.feature import CountVectorizerModel\n",
    "\n",
    "# You'll need to recreate your preprocessing pipeline\n",
    "# ... tokenization, stopwords, etc. (same steps as before)\n",
    "# ... until you get vectorized_reviews\n",
    "\n",
    "\n",
    "\n",
    "# 2. Load saved models\n",
    "lda_model = LDAModel.load(f\"hdfs://namenode:9000/user/jovyan/amazon_reviews/models/lda_model_{category}\")\n",
    "\n",
    "\n",
    "# 3. Load topic terms\n",
    "topic_terms = spark.read.parquet(f\"hdfs://namenode:9000/user/jovyan/amazon_reviews/results/topics_{category}\")\n",
    "\n",
    "\n",
    "\n",
    "# Apply model to get topic distributions\n",
    "reviews_with_topics = lda_model.transform(vectorized_reviews)\n",
    "\n",
    "# Add primary topic (the topic with highest probability)\n",
    "def get_primary_topic(distribution):\n",
    "    return float(distribution.argmax())\n",
    "\n",
    "get_primary_topic_udf = F.udf(get_primary_topic, FloatType())\n",
    "reviews_with_topics = reviews_with_topics.withColumn(\n",
    "    \"primary_topic\", \n",
    "    get_primary_topic_udf(F.col(\"topicDistribution\"))\n",
    ")"
   ]
  },
  {
   "cell_type": "code",
   "execution_count": null,
   "id": "9fbf2d08-5d26-4a54-a755-8bd44a05e150",
   "metadata": {},
   "outputs": [],
   "source": [
    "# Calculate rating statistics by topic\n",
    "topic_ratings = reviews_with_topics.filter(col(\"primary_topic\").isNotNull()) \\\n",
    "                                  .groupBy(\"primary_topic\") \\\n",
    "                                  .agg(\n",
    "                                      F.avg(\"Review/Score\").alias(\"avg_rating\"),\n",
    "                                      F.count(\"*\").alias(\"review_count\"),\n",
    "                                      F.stddev(\"Review/Score\").alias(\"rating_stddev\")\n",
    "                                  )\n",
    "\n",
    "# Join with topic terms\n",
    "topic_insights = topic_ratings.join(\n",
    "    topic_terms,\n",
    "    topic_ratings.primary_topic == topic_terms.topic\n",
    ")\n",
    "\n",
    "# Display results\n",
    "topic_insights.select(\n",
    "    \"primary_topic\",\n",
    "    \"terms\",\n",
    "    \"avg_rating\",\n",
    "    \"review_count\"\n",
    ").orderBy(\"avg_rating\").show(truncate=False)"
   ]
  }
 ],
 "metadata": {
  "kernelspec": {
   "display_name": "Python 3 (ipykernel)",
   "language": "python",
   "name": "python3"
  },
  "language_info": {
   "codemirror_mode": {
    "name": "ipython",
    "version": 3
   },
   "file_extension": ".py",
   "mimetype": "text/x-python",
   "name": "python",
   "nbconvert_exporter": "python",
   "pygments_lexer": "ipython3",
   "version": "3.11.6"
  }
 },
 "nbformat": 4,
 "nbformat_minor": 5
}
